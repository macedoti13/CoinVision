{
 "cells": [
  {
   "cell_type": "code",
   "execution_count": 1,
   "metadata": {},
   "outputs": [],
   "source": [
    "import cv2\n",
    "import numpy as np"
   ]
  },
  {
   "cell_type": "code",
   "execution_count": 2,
   "metadata": {},
   "outputs": [],
   "source": [
    "fotos_rgb = dict()\n",
    "fotos_gray = dict()\n",
    "\n",
    "for i in range(1, 11):\n",
    "    img = cv2.imread(f'fotos/img{i}.png')\n",
    "    img = cv2.resize(img, (720, 720))\n",
    "    img = cv2.GaussianBlur(img, (3,3), 0)\n",
    "    img_rgb = cv2.cvtColor(img, cv2.COLOR_BGR2RGB)\n",
    "    img_gray = cv2.cvtColor(img, cv2.COLOR_BGR2GRAY)\n",
    "    fotos_rgb[\"img\" + str(i)] = img_rgb\n",
    "    fotos_gray[\"img\" + str(i)] = img_gray"
   ]
  },
  {
   "cell_type": "code",
   "execution_count": 5,
   "metadata": {},
   "outputs": [
    {
     "name": "stdout",
     "output_type": "stream",
     "text": [
      "39.48598130841121\n",
      "41.23831775700934\n",
      "40.771028037383175\n",
      "40.88785046728972\n",
      "40.070093457943926\n",
      "40.070093457943926\n",
      "39.25233644859813\n",
      "39.25233644859813\n",
      "41.58878504672897\n",
      "41.35514018691589\n"
     ]
    }
   ],
   "source": [
    "for img in fotos_gray.values():\n",
    "\n",
    "    # detecta as bordas da imagem grayscale\n",
    "    bordas = cv2.Canny(img, 120, 250)\n",
    "\n",
    "    # pega os contornos das bordas\n",
    "    contornos, _ = cv2.findContours(bordas, cv2.RETR_EXTERNAL, cv2.CHAIN_APPROX_SIMPLE)\n",
    "\n",
    "    # tamanho mínimo e máximo da area do cartao de credito\n",
    "    min_area = 10000\n",
    "    max_area = 700000\n",
    "\n",
    "    # filtra somente o contorno do cartao de credito\n",
    "    contorno_cartao = [x for x in contornos if min_area < cv2.contourArea(x) < max_area]\n",
    "\n",
    "    # ratio do cartao real\n",
    "    tam_cartao = (8.56, 5.398)\n",
    "    ratio_cartao_real = tam_cartao[0] / tam_cartao[1]\n",
    "\n",
    "    # ratio do cartao na imagem\n",
    "    x, y, w, h = cv2.boundingRect(contorno_cartao[0])\n",
    "    ratio_cartao_img = h / w\n",
    "\n",
    "    # Convert credit card height from cm to pixels\n",
    "    h_in_pixels = h * (tam_cartao[1] / tam_cartao[0])\n",
    "\n",
    "    # fator de escala\n",
    "    fator_escala = h_in_pixels / tam_cartao[1]\n",
    "\n",
    "    print(fator_escala)\n"
   ]
  }
 ],
 "metadata": {
  "kernelspec": {
   "display_name": "visao-computacional",
   "language": "python",
   "name": "python3"
  },
  "language_info": {
   "codemirror_mode": {
    "name": "ipython",
    "version": 3
   },
   "file_extension": ".py",
   "mimetype": "text/x-python",
   "name": "python",
   "nbconvert_exporter": "python",
   "pygments_lexer": "ipython3",
   "version": "3.11.3"
  },
  "orig_nbformat": 4
 },
 "nbformat": 4,
 "nbformat_minor": 2
}
