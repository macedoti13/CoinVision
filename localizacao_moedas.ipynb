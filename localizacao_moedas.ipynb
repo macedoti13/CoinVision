{
 "cells": [
  {
   "cell_type": "code",
   "execution_count": 5,
   "metadata": {},
   "outputs": [],
   "source": [
    "import matplotlib.pyplot as plt\n",
    "import cv2\n",
    "from functions import *\n",
    "import pickle"
   ]
  },
  {
   "cell_type": "code",
   "execution_count": 6,
   "metadata": {},
   "outputs": [],
   "source": [
    "labels = [\n",
    "    ['1_real'],\n",
    "    ['50_cents'],\n",
    "    ['25_cents'],\n",
    "    ['5_cents'],\n",
    "    ['10_cents'],\n",
    "    ['50_cents', '25_cents', '1_real', '5_cents', '10_cents'],\n",
    "    ['50_cents', '25_cents', '10_cents'],\n",
    "    ['1_real', '50_cents'],\n",
    "    ['1_real', '50_cents', '10_cents'],\n",
    "    ['25_cents', '10_cents']\n",
    "]\n",
    "\n",
    "training_data = list()\n",
    "\n",
    "for i in range(10):\n",
    "    img_gray, img_rgb = prepare_img(f'images/img{i}.png')\n",
    "    circles = find_circles(img_gray)\n",
    "    circles = treat_circles(circles)\n",
    "    \n",
    "    if circles is not None:\n",
    "        filtered_circles = filter_inner_circles(circles, 10)\n",
    "        \n",
    "        # Get only the coins from the image\n",
    "        coins = [extract_coin(img_rgb, circle) for circle in filtered_circles]\n",
    "        \n",
    "        # Apply SIFT to the coins\n",
    "        sift_results = [extract_sift_features(coin, 128) for coin in coins]\n",
    "        descriptors = [result[1] for result in sift_results]\n",
    "        \n",
    "        # Create visual vocabulary\n",
    "        visual_vocabulary = create_visual_vocabulary(descriptors, 100)\n",
    "        \n",
    "        # Get coins histogram of visual words\n",
    "        coins_histograms = [calculate_histogram_of_visual_words(descriptor, visual_vocabulary) for descriptor in descriptors]\n",
    "        \n",
    "        # Add coin histograms and their corresponding labels to the training data\n",
    "        for histogram, label in zip(coins_histograms, labels[i]):\n",
    "            training_data.append((histogram, label))\n",
    "            \n",
    "            \n",
    "with open('training_data.pkl', 'wb') as f:\n",
    "    pickle.dump(training_data, f)"
   ]
  }
 ],
 "metadata": {
  "kernelspec": {
   "display_name": "visao-computacional",
   "language": "python",
   "name": "python3"
  },
  "language_info": {
   "codemirror_mode": {
    "name": "ipython",
    "version": 3
   },
   "file_extension": ".py",
   "mimetype": "text/x-python",
   "name": "python",
   "nbconvert_exporter": "python",
   "pygments_lexer": "ipython3",
   "version": "3.11.3"
  },
  "orig_nbformat": 4
 },
 "nbformat": 4,
 "nbformat_minor": 2
}
