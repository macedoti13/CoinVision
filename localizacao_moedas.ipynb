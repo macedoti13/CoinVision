{
 "cells": [
  {
   "cell_type": "code",
   "execution_count": 8,
   "metadata": {},
   "outputs": [],
   "source": [
    "from functions import *\n",
    "import os\n",
    "import subprocess\n",
    "import pickle"
   ]
  },
  {
   "cell_type": "code",
   "execution_count": 9,
   "metadata": {},
   "outputs": [
    {
     "name": "stdout",
     "output_type": "stream",
     "text": [
      "Predictions for image 0: ['1_real']\n",
      "Predictions for image 1: ['50_cents']\n",
      "Predictions for image 2: ['25_cents']\n",
      "Predictions for image 3: ['5_cents']\n",
      "Predictions for image 4: ['10_cents']\n",
      "Predictions for image 5: ['50_cents' '25_cents' '1_real' '5_cents' '10_cents']\n",
      "Predictions for image 6: ['50_cents' '25_cents' '10_cents']\n",
      "Predictions for image 7: ['1_real' '50_cents']\n",
      "Predictions for image 8: ['1_real' '50_cents' '10_cents']\n",
      "Predictions for image 9: ['25_cents' '10_cents']\n"
     ]
    }
   ],
   "source": [
    "def main():\n",
    "    model_filename = 'coin_classifier.pkl'\n",
    "    training_data_filename = 'training_data.pkl'\n",
    "    \n",
    "    labels = [\n",
    "        ['1_real'],\n",
    "        ['50_cents'],\n",
    "        ['25_cents'],\n",
    "        ['5_cents'],\n",
    "        ['10_cents'],\n",
    "        ['50_cents', '25_cents', '1_real', '5_cents', '10_cents'],\n",
    "        ['50_cents', '25_cents', '10_cents'],\n",
    "        ['1_real', '50_cents'],\n",
    "        ['1_real', '50_cents', '10_cents'],\n",
    "        ['25_cents', '10_cents']\n",
    "    ]\n",
    "\n",
    "    # Check if the model file exists\n",
    "    if not os.path.exists(model_filename):\n",
    "        # If the model file does not exist, collect all coins and create training data\n",
    "        training_data = []\n",
    "\n",
    "        for i in range(10):\n",
    "            img_gray, img_rgb = prepare_img(f'images/img{i}.png')\n",
    "            circles = find_circles(img_gray)\n",
    "            circles = treat_circles(circles)\n",
    "            \n",
    "            if circles is not None:\n",
    "                filtered_circles = filter_inner_circles(circles, 10)\n",
    "                coins_histograms = create_histogram_of_visual_words(img_rgb, filtered_circles)\n",
    "                update_training_data(coins_histograms, labels[i], training_data)\n",
    "        \n",
    "        save_training_data(training_data, training_data_filename)\n",
    "\n",
    "        # Run the train_classifier.py script to train the model\n",
    "        subprocess.run(['python', 'train_classifier.py'])\n",
    "    \n",
    "    # Load the trained model\n",
    "    with open(model_filename, 'rb') as f:\n",
    "        model = pickle.load(f)\n",
    "\n",
    "    for i in range(10):\n",
    "        img_gray, img_rgb = prepare_img(f'images/img{i}.png')\n",
    "        circles = find_circles(img_gray)\n",
    "        circles = treat_circles(circles)\n",
    "        \n",
    "        if circles is not None:\n",
    "            filtered_circles = filter_inner_circles(circles, 10)\n",
    "            coins_histograms = create_histogram_of_visual_words(img_rgb, filtered_circles)\n",
    "\n",
    "            # Predict the class of each coin\n",
    "            predictions = model.predict(coins_histograms)\n",
    "            \n",
    "            print(f'Predictions for image {i}: {predictions}')\n",
    "\n",
    "main()"
   ]
  }
 ],
 "metadata": {
  "kernelspec": {
   "display_name": "visao-computacional",
   "language": "python",
   "name": "python3"
  },
  "language_info": {
   "codemirror_mode": {
    "name": "ipython",
    "version": 3
   },
   "file_extension": ".py",
   "mimetype": "text/x-python",
   "name": "python",
   "nbconvert_exporter": "python",
   "pygments_lexer": "ipython3",
   "version": "3.11.3"
  },
  "orig_nbformat": 4
 },
 "nbformat": 4,
 "nbformat_minor": 2
}
