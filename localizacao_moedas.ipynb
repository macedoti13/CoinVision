{
 "cells": [
  {
   "cell_type": "code",
   "execution_count": 1,
   "metadata": {},
   "outputs": [],
   "source": [
    "import matplotlib.pyplot as plt\n",
    "import cv2\n",
    "from functions import *"
   ]
  },
  {
   "cell_type": "code",
   "execution_count": 14,
   "metadata": {},
   "outputs": [
    {
     "name": "stdout",
     "output_type": "stream",
     "text": [
      "(array([1, 1, 3, 4, 1, 1, 2, 2, 2, 1, 1, 1, 3, 1, 2, 1, 2, 1, 1, 1, 3, 1,\n",
      "       1, 3, 1, 2, 1, 4, 1, 1, 1, 1, 1, 1, 1, 1, 1, 1, 1, 1, 2, 1, 1, 2,\n",
      "       1, 1, 1, 1, 1, 1, 2, 1, 2, 1, 1, 1, 1, 1, 1, 1, 1, 1, 1, 1, 1, 1,\n",
      "       1, 1, 1, 2, 4, 1, 1, 1, 1, 1, 1, 1, 1, 2, 1, 1, 1, 1, 1, 1, 1, 1,\n",
      "       1, 1, 1, 1, 1, 1, 1, 1, 1, 1, 1, 1]), '1_real')\n",
      "(array([3, 1, 1, 2, 9, 1, 4, 1, 2, 1, 2, 2, 1, 2, 1, 1, 1, 1, 1, 2, 1, 1,\n",
      "       1, 1, 1, 1, 1, 1, 1, 1, 1, 1, 1, 1, 1, 1, 1, 1, 1, 3, 1, 1, 1, 1,\n",
      "       1, 1, 1, 1, 1, 1, 1, 1, 1, 1, 1, 1, 1, 1, 2, 1, 1, 1, 1, 2, 1, 1,\n",
      "       3, 1, 1, 1, 1, 1, 1, 1, 1, 1, 1, 1, 1, 1, 1, 2, 1, 1, 2, 1, 1, 1,\n",
      "       1, 1, 1, 1, 1, 1, 1, 2, 1, 1, 1, 1]), '50_cents')\n",
      "(array([1, 2, 7, 1, 2, 2, 1, 1, 2, 1, 1, 5, 2, 1, 1, 2, 1, 2, 1, 1, 1, 1,\n",
      "       1, 1, 1, 2, 1, 1, 1, 1, 2, 1, 1, 2, 1, 1, 1, 1, 1, 1, 1, 1, 1, 1,\n",
      "       1, 1, 1, 1, 1, 1, 1, 1, 1, 3, 1, 1, 1, 1, 1, 3, 1, 1, 1, 1, 1, 1,\n",
      "       1, 1, 1, 1, 1, 1, 1, 1, 1, 1, 1, 1, 1, 1, 1, 1, 1, 5, 1, 1, 1, 1,\n",
      "       1, 1, 1, 1, 1, 1, 1, 1, 1, 1, 1, 1]), '25_cents')\n",
      "(array([2, 2, 1, 1, 1, 1, 1, 1, 1, 8, 1, 1, 1, 9, 7, 1, 1, 1, 1, 1, 1, 1,\n",
      "       1, 1, 1, 1, 1, 1, 1, 1, 1, 1, 1, 1, 1, 1, 1, 1, 1, 1, 1, 1, 1, 1,\n",
      "       1, 1, 1, 1, 1, 1, 1, 1, 3, 1, 1, 1, 1, 1, 1, 1, 1, 1, 2, 1, 1, 1,\n",
      "       1, 1, 1, 1, 1, 1, 1, 1, 1, 1, 1, 1, 1, 1, 1, 1, 1, 1, 1, 1, 1, 1,\n",
      "       2, 1, 1, 1, 1, 1, 1, 1, 1, 1, 1, 2]), '5_cents')\n",
      "(array([1, 1, 3, 1, 2, 6, 1, 1, 1, 4, 2, 1, 2, 4, 1, 1, 1, 1, 1, 1, 1, 1,\n",
      "       1, 1, 1, 1, 5, 1, 1, 4, 1, 1, 1, 1, 1, 1, 1, 1, 5, 1, 1, 1, 1, 1,\n",
      "       1, 1, 1, 1, 1, 1, 1, 1, 1, 1, 1, 1, 1, 1, 1, 1, 1, 1, 1, 1, 1, 1,\n",
      "       1, 1, 1, 1, 1, 1, 1, 1, 1, 1, 1, 1, 1, 1, 1, 1, 1, 1, 1, 1, 1, 1,\n",
      "       1, 1, 1, 1, 1, 1, 1, 2, 1, 1, 1, 1]), '10_cents')\n"
     ]
    }
   ],
   "source": [
    "labels = [\n",
    "    ['1_real'],\n",
    "    ['50_cents'],\n",
    "    ['25_cents'],\n",
    "    ['5_cents'],\n",
    "    ['10_cents']\n",
    "]\n",
    "\n",
    "training_data = list()\n",
    "\n",
    "for i in range(5):\n",
    "    img_gray, img_rgb = prepare_img(f'images/img{i}.png')\n",
    "    circles = find_circles(img_gray)\n",
    "    circles = treat_circles(circles)\n",
    "    \n",
    "    if circles is not None:\n",
    "        filtered_circles = filter_inner_circles(circles, 10)\n",
    "        \n",
    "        # Get only the coins from the image\n",
    "        coins = [extract_coin(img_rgb, circle) for circle in filtered_circles]\n",
    "        \n",
    "        # Apply SIFT to the coins\n",
    "        sift_results = [extract_sift_features(coin, 128) for coin in coins]\n",
    "        descriptors = [result[1] for result in sift_results]\n",
    "        \n",
    "        # Create visual vocabulary\n",
    "        visual_vocabulary = create_visual_vocabulary(descriptors, 100)\n",
    "        \n",
    "        # Get coins histogram of visual words\n",
    "        coins_histograms = [calculate_histogram_of_visual_words(descriptor, visual_vocabulary) for descriptor in descriptors]\n",
    "        \n",
    "        # Add coin histograms and their corresponding labels to the training data\n",
    "        for histogram, label in zip(coins_histograms, labels[i]):\n",
    "            training_data.append((histogram, label))\n",
    "            \n",
    "for i in training_data:\n",
    "    print(i)"
   ]
  }
 ],
 "metadata": {
  "kernelspec": {
   "display_name": "visao-computacional",
   "language": "python",
   "name": "python3"
  },
  "language_info": {
   "codemirror_mode": {
    "name": "ipython",
    "version": 3
   },
   "file_extension": ".py",
   "mimetype": "text/x-python",
   "name": "python",
   "nbconvert_exporter": "python",
   "pygments_lexer": "ipython3",
   "version": "3.11.3"
  },
  "orig_nbformat": 4
 },
 "nbformat": 4,
 "nbformat_minor": 2
}
