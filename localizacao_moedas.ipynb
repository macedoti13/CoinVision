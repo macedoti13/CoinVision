{
 "cells": [
  {
   "cell_type": "code",
   "execution_count": 5,
   "metadata": {},
   "outputs": [],
   "source": [
    "import matplotlib.pyplot as plt\n",
    "import cv2\n",
    "from functions import *"
   ]
  },
  {
   "cell_type": "code",
   "execution_count": 6,
   "metadata": {},
   "outputs": [],
   "source": [
    "labels = [\n",
    "    ['1_real'],\n",
    "    ['50_cents'],\n",
    "    ['25_cents'],\n",
    "    ['5_cents'],\n",
    "    ['10_cents'],\n",
    "    ['50_cents', '25_cents', '1_real', '5_cents', '10_cents'],\n",
    "    ['50_cents', '25_cents', '10_cents'],\n",
    "    ['1_real', '50_cents'],\n",
    "    ['1_real', '50_cents', '10_cents'],\n",
    "    ['25_cents', '10_cents']\n",
    "]\n",
    "\n",
    "training_data = list()\n",
    "\n",
    "for i in range(10):\n",
    "    img_gray, img_rgb = prepare_img(f'images/img{i}.png')\n",
    "    circles = find_circles(img_gray)\n",
    "    circles = treat_circles(circles)\n",
    "    \n",
    "    if circles is not None:\n",
    "        \n",
    "        filtered_circles = filter_inner_circles(circles, 10)\n",
    "        coins_histograms = create_histogram_of_visual_words(img_rgb, filtered_circles)\n",
    "        update_training_data(coins_histograms, labels[i], training_data)\n",
    "    \n",
    "    \n",
    "save_training_data(training_data, 'training_data.pkl')"
   ]
  }
 ],
 "metadata": {
  "kernelspec": {
   "display_name": "visao-computacional",
   "language": "python",
   "name": "python3"
  },
  "language_info": {
   "codemirror_mode": {
    "name": "ipython",
    "version": 3
   },
   "file_extension": ".py",
   "mimetype": "text/x-python",
   "name": "python",
   "nbconvert_exporter": "python",
   "pygments_lexer": "ipython3",
   "version": "3.11.3"
  },
  "orig_nbformat": 4
 },
 "nbformat": 4,
 "nbformat_minor": 2
}
