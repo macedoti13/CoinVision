{
 "cells": [
  {
   "cell_type": "code",
   "execution_count": 1,
   "metadata": {},
   "outputs": [],
   "source": [
    "import matplotlib.pyplot as plt\n",
    "import cv2\n",
    "from functions import *"
   ]
  },
  {
   "cell_type": "code",
   "execution_count": 2,
   "metadata": {},
   "outputs": [],
   "source": [
    "for i in range(1):\n",
    "    img_gray, img_rgb = prepare_img(f'images/img{i}.png')\n",
    "    circles = find_circles(img_gray)\n",
    "    circles = treat_circles(circles)\n",
    "    \n",
    "    if circles is not None:\n",
    "        filtered_circles = filter_inner_circles(circles, 10)\n",
    "        \n",
    "        ##### get only the coins from the image\n",
    "        coins = [extract_coin(img_rgb, circle) for circle in filtered_circles]\n",
    "        \n",
    "        ##### apply sift to the coins\n",
    "        sift_results = [extract_sift_features(coin, 128) for coin in coins]\n",
    "        keypoints = [result[0] for result in sift_results]\n",
    "        descriptors = [result[1] for result in sift_results]\n",
    "        \n",
    "        ##### creates visual vocabulary\n",
    "        visual_vocabulary = create_visual_vocabulary(descriptors, 100)\n",
    "        \n",
    "        ##### get coins histogram of visual words \n",
    "        coins_histograms = [calculate_histogram_of_visual_words(descriptors, visual_vocabulary) for descriptors in descriptors]\n"
   ]
  }
 ],
 "metadata": {
  "kernelspec": {
   "display_name": "visao-computacional",
   "language": "python",
   "name": "python3"
  },
  "language_info": {
   "codemirror_mode": {
    "name": "ipython",
    "version": 3
   },
   "file_extension": ".py",
   "mimetype": "text/x-python",
   "name": "python",
   "nbconvert_exporter": "python",
   "pygments_lexer": "ipython3",
   "version": "3.11.3"
  },
  "orig_nbformat": 4
 },
 "nbformat": 4,
 "nbformat_minor": 2
}
